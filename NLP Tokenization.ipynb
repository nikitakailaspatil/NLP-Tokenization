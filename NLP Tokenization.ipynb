{
 "cells": [
  {
   "cell_type": "code",
   "execution_count": 1,
   "id": "57f8d5ae",
   "metadata": {},
   "outputs": [],
   "source": [
    "import nltk  "
   ]
  },
  {
   "cell_type": "markdown",
   "id": "49d152ad",
   "metadata": {},
   "source": [
    "##It contains text processing libraries for tokenization, parsing, classification, stemming, tagging and semantic reasoning"
   ]
  },
  {
   "cell_type": "code",
   "execution_count": 2,
   "id": "5643d70b",
   "metadata": {},
   "outputs": [
    {
     "name": "stderr",
     "output_type": "stream",
     "text": [
      "[nltk_data] Downloading package punkt to\n",
      "[nltk_data]     C:\\Users\\patil\\AppData\\Roaming\\nltk_data...\n",
      "[nltk_data]   Package punkt is already up-to-date!\n"
     ]
    },
    {
     "data": {
      "text/plain": [
       "True"
      ]
     },
     "execution_count": 2,
     "metadata": {},
     "output_type": "execute_result"
    }
   ],
   "source": [
    "nltk.download(\"punkt\")"
   ]
  },
  {
   "cell_type": "code",
   "execution_count": 3,
   "id": "7d0e2f59",
   "metadata": {},
   "outputs": [],
   "source": [
    "paragraph=\"\"\"Avul Pakir Jainulabdeen Abdul Kalam (/ˈɑːbdəl kəˈlɑːm/ (listen); 15 October 1931 – 27 July 2015) was an Indian aerospace scientist and statesman who served as the 11th President of India from 2002 to 2007. He was born and raised in Rameswaram, Tamil Nadu and studied physics and aerospace engineering. He spent the next four decades as a scientist and science administrator, mainly at the Defence Research and Development Organisation (DRDO) and Indian Space Research Organisation (ISRO) and was intimately involved in India's civilian space programme and military missile development efforts.[1] He thus came to be known as the Missile Man of India for his work on the development of ballistic missile and launch vehicle technology.[2][3][4] He also played a pivotal organisational, technical, and political role in India's Pokhran-II nuclear tests in 1998, the first since the original nuclear test by India in 1974.[5]\n",
    "\n",
    "Kalam was elected as the 11th president of India in 2002 with the support of both the ruling Bharatiya Janata Party and the then-opposition Indian National Congress. Widely referred to as the \"People's President\",[6] he returned to his civilian life of education, writing and public service after a single term. He was a recipient of several prestigious awards, including the Bharat Ratna, India's highest civilian honour. \"\"\""
   ]
  },
  {
   "cell_type": "code",
   "execution_count": 6,
   "id": "5dc4716b",
   "metadata": {},
   "outputs": [],
   "source": [
    "sentences=nltk.sent_tokenize(paragraph)"
   ]
  },
  {
   "cell_type": "markdown",
   "id": "cdd94bda",
   "metadata": {},
   "source": [
    "##It converts paragraph into different different sentences"
   ]
  },
  {
   "cell_type": "code",
   "execution_count": 7,
   "id": "ba0dce5e",
   "metadata": {},
   "outputs": [
    {
     "data": {
      "text/plain": [
       "['Avul Pakir Jainulabdeen Abdul Kalam (/ˈɑːbdəl kəˈlɑːm/ (listen); 15 October 1931\\xa0– 27 July 2015) was an Indian aerospace scientist and statesman who served as the 11th President of India from 2002 to 2007.',\n",
       " 'He was born and raised in Rameswaram, Tamil Nadu and studied physics and aerospace engineering.',\n",
       " \"He spent the next four decades as a scientist and science administrator, mainly at the Defence Research and Development Organisation (DRDO) and Indian Space Research Organisation (ISRO) and was intimately involved in India's civilian space programme and military missile development efforts.\",\n",
       " '[1] He thus came to be known as the Missile Man of India for his work on the development of ballistic missile and launch vehicle technology.',\n",
       " \"[2][3][4] He also played a pivotal organisational, technical, and political role in India's Pokhran-II nuclear tests in 1998, the first since the original nuclear test by India in 1974.\",\n",
       " '[5]\\n\\nKalam was elected as the 11th president of India in 2002 with the support of both the ruling Bharatiya Janata Party and the then-opposition Indian National Congress.',\n",
       " 'Widely referred to as the \"People\\'s President\",[6] he returned to his civilian life of education, writing and public service after a single term.',\n",
       " \"He was a recipient of several prestigious awards, including the Bharat Ratna, India's highest civilian honour.\"]"
      ]
     },
     "execution_count": 7,
     "metadata": {},
     "output_type": "execute_result"
    }
   ],
   "source": [
    "sentences"
   ]
  },
  {
   "cell_type": "code",
   "execution_count": 8,
   "id": "7f803bc1",
   "metadata": {},
   "outputs": [
    {
     "data": {
      "text/plain": [
       "8"
      ]
     },
     "execution_count": 8,
     "metadata": {},
     "output_type": "execute_result"
    }
   ],
   "source": [
    "len(sentences)   "
   ]
  },
  {
   "cell_type": "markdown",
   "id": "1391bd72",
   "metadata": {},
   "source": [
    "It checks length of sentences."
   ]
  },
  {
   "cell_type": "code",
   "execution_count": 9,
   "id": "ac1b6ea4",
   "metadata": {},
   "outputs": [],
   "source": [
    "words=nltk.word_tokenize(paragraph)"
   ]
  },
  {
   "cell_type": "markdown",
   "id": "a2123d27",
   "metadata": {},
   "source": [
    "word_tokenize is responsible for converting paragraph into word by word."
   ]
  },
  {
   "cell_type": "markdown",
   "id": "79bae89f",
   "metadata": {},
   "source": [
    "# What is Tokenization:\n",
    "Tokenization is a process of converting paragraph into sentences or words.\n",
    "\n",
    "For converting paragraph into sentences you can use:\n",
    "\n",
    "nltk.sent_tokenize(variable name)\n",
    "\n",
    "For converting paragraph into words you can use:\n",
    "\n",
    "nltk.word_tokenize(variable name)"
   ]
  },
  {
   "cell_type": "code",
   "execution_count": null,
   "id": "cb8cff24",
   "metadata": {},
   "outputs": [],
   "source": []
  }
 ],
 "metadata": {
  "kernelspec": {
   "display_name": "Python 3 (ipykernel)",
   "language": "python",
   "name": "python3"
  },
  "language_info": {
   "codemirror_mode": {
    "name": "ipython",
    "version": 3
   },
   "file_extension": ".py",
   "mimetype": "text/x-python",
   "name": "python",
   "nbconvert_exporter": "python",
   "pygments_lexer": "ipython3",
   "version": "3.9.7"
  }
 },
 "nbformat": 4,
 "nbformat_minor": 5
}
